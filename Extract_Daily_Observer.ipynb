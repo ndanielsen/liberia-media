{
 "metadata": {
  "name": "",
  "signature": "sha256:d665a788718b3f3c5659141501f283f28d876e8c8fcf64e188d8855a44058b8e"
 },
 "nbformat": 3,
 "nbformat_minor": 0,
 "worksheets": [
  {
   "cells": [
    {
     "cell_type": "code",
     "collapsed": false,
     "input": [
      "import os\n",
      "import bs4\n",
      "\n",
      "\n",
      "# encoding=utf8  \n",
      "import sys  \n",
      "\n",
      "reload(sys)  \n",
      "sys.setdefaultencoding('utf8')"
     ],
     "language": "python",
     "metadata": {},
     "outputs": [],
     "prompt_number": 1
    },
    {
     "cell_type": "code",
     "collapsed": false,
     "input": [
      "def map_data(name):\n",
      "\t\"\"\"\n",
      "\tMaps all stories in the data folder for the content provider\n",
      "\t\"\"\"\n",
      "\tdata_dir = \"data/\" + name\n",
      "\n",
      "\treturn os.listdir(data_dir)"
     ],
     "language": "python",
     "metadata": {},
     "outputs": [],
     "prompt_number": 2
    },
    {
     "cell_type": "code",
     "collapsed": false,
     "input": [
      "print 'hello'"
     ],
     "language": "python",
     "metadata": {},
     "outputs": [],
     "prompt_number": 8
    },
    {
     "cell_type": "code",
     "collapsed": false,
     "input": [
      "files[1]"
     ],
     "language": "python",
     "metadata": {},
     "outputs": [
      {
       "ename": "NameError",
       "evalue": "name 'files' is not defined",
       "output_type": "pyerr",
       "traceback": [
        "\u001b[1;31m---------------------------------------------------------------------------\u001b[0m\n\u001b[1;31mNameError\u001b[0m                                 Traceback (most recent call last)",
        "\u001b[1;32m<ipython-input-3-d8cd9fb2397b>\u001b[0m in \u001b[0;36m<module>\u001b[1;34m()\u001b[0m\n\u001b[1;32m----> 1\u001b[1;33m \u001b[0mfiles\u001b[0m\u001b[1;33m[\u001b[0m\u001b[1;36m1\u001b[0m\u001b[1;33m]\u001b[0m\u001b[1;33m\u001b[0m\u001b[0m\n\u001b[0m",
        "\u001b[1;31mNameError\u001b[0m: name 'files' is not defined"
       ]
      }
     ],
     "prompt_number": 3
    },
    {
     "cell_type": "code",
     "collapsed": false,
     "input": [
      "extractlist= []\n",
      "files = map_data('dailyobserver')\n",
      "def extract_dailyobserver(files):\n",
      "    for doc in files:\n",
      "        with open('data/dailyobserver/' + doc, 'r') as f:\n",
      "            print doc\n",
      "            try:\n",
      "                soup = bs4.BeautifulSoup(f)\n",
      "                title = title_cleaner(soup)\n",
      "                content = contents_cleaner(soup)\n",
      "                extractlist.append([title, content])\n",
      "            except Exception as ex:\n",
      "                print unicode(title), ex.__class__\n",
      "                \n",
      "                "
     ],
     "language": "python",
     "metadata": {},
     "outputs": []
    },
    {
     "cell_type": "code",
     "collapsed": false,
     "input": [
      "extract_dailyobserver(files)\n",
      "\n",
      "\n"
     ],
     "language": "python",
     "metadata": {},
     "outputs": []
    },
    {
     "cell_type": "code",
     "collapsed": false,
     "input": [
      "extractlist[:5][4][2]"
     ],
     "language": "python",
     "metadata": {},
     "outputs": []
    },
    {
     "cell_type": "markdown",
     "metadata": {},
     "source": [
      "#Titles"
     ]
    },
    {
     "cell_type": "code",
     "collapsed": false,
     "input": [
      "def title_cleaner(soup):\n",
      "    title = soup.find(name=\"h1\", attrs={'class':'title'})\n",
      "    return title.text"
     ],
     "language": "python",
     "metadata": {},
     "outputs": []
    },
    {
     "cell_type": "code",
     "collapsed": false,
     "input": [
      "title = soup.find(name=\"h1\", attrs={'class':'title'})"
     ],
     "language": "python",
     "metadata": {},
     "outputs": []
    },
    {
     "cell_type": "code",
     "collapsed": false,
     "input": [
      "title.text"
     ],
     "language": "python",
     "metadata": {},
     "outputs": []
    },
    {
     "cell_type": "code",
     "collapsed": false,
     "input": [
      "tags = ['<h1 class=\"title\">', '</h1>' ]"
     ],
     "language": "python",
     "metadata": {},
     "outputs": []
    },
    {
     "cell_type": "code",
     "collapsed": false,
     "input": [
      "tags"
     ],
     "language": "python",
     "metadata": {},
     "outputs": []
    },
    {
     "cell_type": "code",
     "collapsed": false,
     "input": [
      "extractlist[2] = unicode(extractlist[2]).replace(tags[0], '').replace(tags[1], '')"
     ],
     "language": "python",
     "metadata": {},
     "outputs": []
    },
    {
     "cell_type": "code",
     "collapsed": false,
     "input": [
      "title_cleaner(soup)"
     ],
     "language": "python",
     "metadata": {},
     "outputs": []
    },
    {
     "cell_type": "markdown",
     "metadata": {},
     "source": [
      "#Author"
     ]
    },
    {
     "cell_type": "code",
     "collapsed": false,
     "input": [
      "body = soup.find(name=\"div\", attrs={'class':'field-item even'})"
     ],
     "language": "python",
     "metadata": {},
     "outputs": []
    },
    {
     "cell_type": "code",
     "collapsed": false,
     "input": [
      "content = body.findAll(name='p')"
     ],
     "language": "python",
     "metadata": {},
     "outputs": []
    },
    {
     "cell_type": "code",
     "collapsed": false,
     "input": [
      "print 'hello'\n"
     ],
     "language": "python",
     "metadata": {},
     "outputs": [],
     "prompt_number": 7
    },
    {
     "cell_type": "code",
     "collapsed": false,
     "input": [
      "text"
     ],
     "language": "python",
     "metadata": {},
     "outputs": [
      {
       "ename": "NameError",
       "evalue": "name 'text' is not defined",
       "output_type": "pyerr",
       "traceback": [
        "\u001b[1;31m---------------------------------------------------------------------------\u001b[0m\n\u001b[1;31mNameError\u001b[0m                                 Traceback (most recent call last)",
        "\u001b[1;32m<ipython-input-6-e1cbb0c3879a>\u001b[0m in \u001b[0;36m<module>\u001b[1;34m()\u001b[0m\n\u001b[1;32m----> 1\u001b[1;33m \u001b[0mtext\u001b[0m\u001b[1;33m\u001b[0m\u001b[0m\n\u001b[0m",
        "\u001b[1;31mNameError\u001b[0m: name 'text' is not defined"
       ]
      }
     ],
     "prompt_number": 6
    },
    {
     "cell_type": "markdown",
     "metadata": {},
     "source": [
      "#Content"
     ]
    },
    {
     "cell_type": "code",
     "collapsed": false,
     "input": [
      "def contents_cleaner(soup):\n",
      "    contents = soup.findAll(name='div', attrs={'class':\"field-item even\"})#     title = str(title)\n",
      "    return contents[0].text"
     ],
     "language": "python",
     "metadata": {},
     "outputs": [],
     "prompt_number": 203
    },
    {
     "cell_type": "code",
     "collapsed": false,
     "input": [
      "contents = soup.findAll(name='div', attrs={'class':\"field-item even\"})"
     ],
     "language": "python",
     "metadata": {},
     "outputs": [],
     "prompt_number": 190
    },
    {
     "cell_type": "code",
     "collapsed": false,
     "input": [
      "contents[0].text"
     ],
     "language": "python",
     "metadata": {},
     "outputs": [
      {
       "metadata": {},
       "output_type": "pyout",
       "prompt_number": 224,
       "text": [
        "u'Nearly every week in recent times the media have carried major stories on the seizure of marijuana somewhere in Liberia.\\xa0\\nYesterday\\u2019s back page lead story on Daily Observer\\u2019s was no exception. \\xa0Our reporter \\xa0\\xa0Alvin Worzi told the nation in that story yesterday that the Drug Enforcement Agency (DEA) had over the weekend discovered L$600,000 worth of marijuana in the ELWA Community.\\xa0\\nEven more alarming was DEA Director Anthony Souh\\u2019s declaration that supply of the contraband (illegal goods) in the country was widespread, to the extent that it was being grown on several farms around the country.\\xa0 There are indications that such farms are located, for starts, right here in Montserrado, but also in Bong, Lofa and Nimba counties.\\xa0 This suggests that this nation is in for a long, tough, intractable battle with marijuana suppliers, if our youth are to be protected from this most dangerous scourge. \\xa0\\nMany studies over the years have confirmed extremely harmful effects of marijuana on the brain, especially of young people.\\xa0 That is why the drug has been banned for decades in the United States and many other parts of the world.\\nA study published last Wednesday in the Journal of Neuroscience through the collaborative effort between Northwestern University\\'s Medical School, Massachusetts General Hospital and Harvard Medical School showed a direct correlation between the number of times users smoked and abnormalities in the brain.\\nYoung, casual marijuana smokers experience potentially harmful changes to their brains, with the drug altering regions of the mind related to motivation and emotion, researchers found.\\n\"What we\\'re seeing is changes in people who are 18 to 25 in core brain regions that you never, ever want to fool around with,\" said co-senior study author Dr. Hans Beiter, professor of psychiatry and behavioral sciences at Northwestern University.\\nIn particular, the study identified changes to the nucleus accumbens and the nucleus amygdala, regions of the brain that are key to regulating emotion and motivation, in marijuana users who smoke between one and seven joints a week.\\nThe researchers found changes to the volume, shape and density of those brain regions. But more studies are needed to determine how those changes may have long-term consequences and whether they can be fixed with abstinence, Beiter said.\\nAt this low stage of Liberia\\u2019s development, when so many newer nations are far ahead of us in so many respects, and our educational system is confronted with so many rudimentary challenges, we cannot afford this further distraction that could destroy the thinking faculties and the normal function of our children\\u2019s brains.\\nBut this is a challenge not for the government alone; all educational, religious, civic and social organizations must get involved in the fight against this blight which, if not tackled immediately, could have a devastating effect on our youth and our national progress.\\nThe Ministries of Justice, Education, Health and Social Welfare, the National Drug Enforcement Agency, the Liberia National Students Union (LINSU), the National Students Christian Council \\xa0\\xa0(NSCC) and other related Non-Governmental Organizations need to join forces and develop a coherent and workable strategy to combat the spread of marijuana in our country.\\nThis is an urgent challenge.\\xa0\\xa0\\xa0 The sooner we can organize the forces to begin strategizing to arrest this scourge, the better for our nation\\u2019s future.\\n'"
       ]
      }
     ],
     "prompt_number": 224
    },
    {
     "cell_type": "markdown",
     "metadata": {},
     "source": [
      "#Extraction List"
     ]
    },
    {
     "cell_type": "code",
     "collapsed": false,
     "input": [],
     "language": "python",
     "metadata": {},
     "outputs": [
      {
       "metadata": {},
       "output_type": "pyout",
       "prompt_number": 206,
       "text": [
        "[]"
       ]
      }
     ],
     "prompt_number": 206
    },
    {
     "cell_type": "code",
     "collapsed": false,
     "input": [
      "for elem in range(5):\n",
      "    print extractlist[:][0][0]"
     ],
     "language": "python",
     "metadata": {},
     "outputs": [
      {
       "ename": "IndexError",
       "evalue": "list index out of range",
       "output_type": "pyerr",
       "traceback": [
        "\u001b[1;31m---------------------------------------------------------------------------\u001b[0m\n\u001b[1;31mIndexError\u001b[0m                                Traceback (most recent call last)",
        "\u001b[1;32m<ipython-input-254-581484b181df>\u001b[0m in \u001b[0;36m<module>\u001b[1;34m()\u001b[0m\n\u001b[0;32m      1\u001b[0m \u001b[1;32mfor\u001b[0m \u001b[0melem\u001b[0m \u001b[1;32min\u001b[0m \u001b[0mrange\u001b[0m\u001b[1;33m(\u001b[0m\u001b[1;36m5\u001b[0m\u001b[1;33m)\u001b[0m\u001b[1;33m:\u001b[0m\u001b[1;33m\u001b[0m\u001b[0m\n\u001b[1;32m----> 2\u001b[1;33m     \u001b[1;32mprint\u001b[0m \u001b[0mextractlist\u001b[0m\u001b[1;33m[\u001b[0m\u001b[1;33m:\u001b[0m\u001b[0melem\u001b[0m\u001b[1;33m]\u001b[0m\u001b[1;33m[\u001b[0m\u001b[1;36m0\u001b[0m\u001b[1;33m]\u001b[0m\u001b[1;33m[\u001b[0m\u001b[1;36m0\u001b[0m\u001b[1;33m]\u001b[0m\u001b[1;33m\u001b[0m\u001b[0m\n\u001b[0m",
        "\u001b[1;31mIndexError\u001b[0m: list index out of range"
       ]
      }
     ],
     "prompt_number": 254
    },
    {
     "cell_type": "markdown",
     "metadata": {},
     "source": [
      "#Notes"
     ]
    },
    {
     "cell_type": "markdown",
     "metadata": {},
     "source": [
      "if title contains, 'edition' or month then it is a 404"
     ]
    },
    {
     "cell_type": "code",
     "collapsed": false,
     "input": [
      "soup.find(name='div', attrs={'class':\"node-content-wrapper\"}) "
     ],
     "language": "python",
     "metadata": {},
     "outputs": [
      {
       "ename": "NameError",
       "evalue": "name 'soup' is not defined",
       "output_type": "pyerr",
       "traceback": [
        "\u001b[1;31m---------------------------------------------------------------------------\u001b[0m\n\u001b[1;31mNameError\u001b[0m                                 Traceback (most recent call last)",
        "\u001b[1;32m<ipython-input-9-594705d7d14c>\u001b[0m in \u001b[0;36m<module>\u001b[1;34m()\u001b[0m\n\u001b[1;32m----> 1\u001b[1;33m \u001b[0msoup\u001b[0m\u001b[1;33m.\u001b[0m\u001b[0mfind\u001b[0m\u001b[1;33m(\u001b[0m\u001b[0mname\u001b[0m\u001b[1;33m=\u001b[0m\u001b[1;34m'div'\u001b[0m\u001b[1;33m,\u001b[0m \u001b[0mattrs\u001b[0m\u001b[1;33m=\u001b[0m\u001b[1;33m{\u001b[0m\u001b[1;34m'class'\u001b[0m\u001b[1;33m:\u001b[0m\u001b[1;34m\"node-content-wrapper\"\u001b[0m\u001b[1;33m}\u001b[0m\u001b[1;33m)\u001b[0m\u001b[1;33m\u001b[0m\u001b[0m\n\u001b[0m",
        "\u001b[1;31mNameError\u001b[0m: name 'soup' is not defined"
       ]
      }
     ],
     "prompt_number": 9
    },
    {
     "cell_type": "code",
     "collapsed": false,
     "input": [],
     "language": "python",
     "metadata": {},
     "outputs": []
    }
   ],
   "metadata": {}
  }
 ]
}