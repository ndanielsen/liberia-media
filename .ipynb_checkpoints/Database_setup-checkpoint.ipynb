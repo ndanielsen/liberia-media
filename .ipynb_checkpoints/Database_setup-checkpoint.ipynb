{
 "metadata": {
  "name": "",
  "signature": "sha256:b82a544cef7a241cc78d207e843f7cc910916ae1734908fabb7e181a67cf398a"
 },
 "nbformat": 3,
 "nbformat_minor": 0,
 "worksheets": [
  {
   "cells": [
    {
     "cell_type": "code",
     "collapsed": false,
     "input": [
      "import pandas as pd\n"
     ],
     "language": "python",
     "metadata": {},
     "outputs": [],
     "prompt_number": 4
    },
    {
     "cell_type": "code",
     "collapsed": false,
     "input": [
      "from engine.engine import Engine"
     ],
     "language": "python",
     "metadata": {},
     "outputs": [],
     "prompt_number": 2
    },
    {
     "cell_type": "code",
     "collapsed": false,
     "input": [
      "df = pd.read_csv(\"data/200log.csv\")"
     ],
     "language": "python",
     "metadata": {},
     "outputs": [],
     "prompt_number": 5
    },
    {
     "cell_type": "code",
     "collapsed": false,
     "input": [
      "df.head()"
     ],
     "language": "python",
     "metadata": {},
     "outputs": [
      {
       "html": [
        "<div style=\"max-height:1000px;max-width:1500px;overflow:auto;\">\n",
        "<table border=\"1\" class=\"dataframe\">\n",
        "  <thead>\n",
        "    <tr style=\"text-align: right;\">\n",
        "      <th></th>\n",
        "      <th>url_request</th>\n",
        "      <th>url_status_code</th>\n",
        "      <th>header_len</th>\n",
        "      <th>response_len</th>\n",
        "      <th>name</th>\n",
        "      <th>time</th>\n",
        "      <th>message</th>\n",
        "    </tr>\n",
        "  </thead>\n",
        "  <tbody>\n",
        "    <tr>\n",
        "      <th>0</th>\n",
        "      <td>http://www.frontpageafricaonline.com/index.php...</td>\n",
        "      <td>200</td>\n",
        "      <td>16</td>\n",
        "      <td>43429</td>\n",
        "      <td>frontpageafricaonline</td>\n",
        "      <td>2015-05-03 12:33:27.188826</td>\n",
        "      <td>production</td>\n",
        "    </tr>\n",
        "    <tr>\n",
        "      <th>1</th>\n",
        "      <td>http://www.1847post.com/?q=node/8</td>\n",
        "      <td>200</td>\n",
        "      <td>15</td>\n",
        "      <td>33305</td>\n",
        "      <td>post1847</td>\n",
        "      <td>2015-05-03 12:41:19.267498</td>\n",
        "      <td>production</td>\n",
        "    </tr>\n",
        "    <tr>\n",
        "      <th>2</th>\n",
        "      <td>http://www.1847post.com/?q=node/24</td>\n",
        "      <td>200</td>\n",
        "      <td>15</td>\n",
        "      <td>38303</td>\n",
        "      <td>post1847</td>\n",
        "      <td>2015-05-03 12:59:00.820873</td>\n",
        "      <td>production</td>\n",
        "    </tr>\n",
        "    <tr>\n",
        "      <th>3</th>\n",
        "      <td>http://www.1847post.com/?q=node/25</td>\n",
        "      <td>200</td>\n",
        "      <td>15</td>\n",
        "      <td>33886</td>\n",
        "      <td>post1847</td>\n",
        "      <td>2015-05-03 13:00:05.688240</td>\n",
        "      <td>production</td>\n",
        "    </tr>\n",
        "    <tr>\n",
        "      <th>4</th>\n",
        "      <td>http://www.thenewdawnliberia.com/general/39</td>\n",
        "      <td>200</td>\n",
        "      <td>11</td>\n",
        "      <td>27215</td>\n",
        "      <td>thenewdawn</td>\n",
        "      <td>2015-05-03 13:15:20.277015</td>\n",
        "      <td>production</td>\n",
        "    </tr>\n",
        "  </tbody>\n",
        "</table>\n",
        "</div>"
       ],
       "metadata": {},
       "output_type": "pyout",
       "prompt_number": 6,
       "text": [
        "                                         url_request  url_status_code  \\\n",
        "0  http://www.frontpageafricaonline.com/index.php...              200   \n",
        "1                  http://www.1847post.com/?q=node/8              200   \n",
        "2                 http://www.1847post.com/?q=node/24              200   \n",
        "3                 http://www.1847post.com/?q=node/25              200   \n",
        "4        http://www.thenewdawnliberia.com/general/39              200   \n",
        "\n",
        "   header_len  response_len                   name  \\\n",
        "0          16         43429  frontpageafricaonline   \n",
        "1          15         33305               post1847   \n",
        "2          15         38303               post1847   \n",
        "3          15         33886               post1847   \n",
        "4          11         27215             thenewdawn   \n",
        "\n",
        "                         time     message  \n",
        "0  2015-05-03 12:33:27.188826  production  \n",
        "1  2015-05-03 12:41:19.267498  production  \n",
        "2  2015-05-03 12:59:00.820873  production  \n",
        "3  2015-05-03 13:00:05.688240  production  \n",
        "4  2015-05-03 13:15:20.277015  production  "
       ]
      }
     ],
     "prompt_number": 6
    },
    {
     "cell_type": "code",
     "collapsed": false,
     "input": [
      "import csv\n",
      "from dateutil import parser \n",
      "import datetime \n",
      "import time\n",
      "\n",
      "from engine.engine import Engine\n",
      "\n"
     ],
     "language": "python",
     "metadata": {},
     "outputs": []
    },
    {
     "cell_type": "code",
     "collapsed": false,
     "input": [
      "log = []\n",
      "\n",
      "with open(\"data/200log.csv\", 'r') as f:\n",
      "    reader = csv.reader(f)\n",
      "    next(reader, None)\n",
      "    for row in reader:\n",
      "        url_request = unicode(row[0])  \n",
      "        url_status_code = row[1]\n",
      "        header_len = row[2]\n",
      "        response_len = row[3]\n",
      "        name = unicode(row[4]) \n",
      "        timedate = parser.parse(row[5])\n",
      "        message = unicode(row[6])\n",
      "        \n",
      "        scraperlog = timedate, url_request, url_status_code, header_len, response_len, name, message\n",
      "        \n",
      "        log.append(scraperlog)\n",
      "\n",
      "        \n",
      "# Engine(engine='new', scraperlog=log)\n",
      "print log[:50\n",
      "]\n",
      "\n",
      "        "
     ],
     "language": "python",
     "metadata": {},
     "outputs": []
    },
    {
     "cell_type": "code",
     "collapsed": false,
     "input": [
      "type(log[0][0])"
     ],
     "language": "python",
     "metadata": {},
     "outputs": [
      {
       "metadata": {},
       "output_type": "pyout",
       "prompt_number": 50,
       "text": [
        "datetime.datetime"
       ]
      }
     ],
     "prompt_number": 50
    },
    {
     "cell_type": "code",
     "collapsed": false,
     "input": [
      "[\"url_request\", \"url_status_code\", \"header_len\", \"response_len\", \"name\",  \"time\", \"message\"]"
     ],
     "language": "python",
     "metadata": {},
     "outputs": [
      {
       "metadata": {},
       "output_type": "pyout",
       "prompt_number": 10,
       "text": [
        "['url_request',\n",
        " 'url_status_code',\n",
        " 'header_len',\n",
        " 'response_len',\n",
        " 'name',\n",
        " 'time',\n",
        " 'message']"
       ]
      }
     ],
     "prompt_number": 10
    },
    {
     "cell_type": "code",
     "collapsed": false,
     "input": [],
     "language": "python",
     "metadata": {},
     "outputs": [
      {
       "ename": "SyntaxError",
       "evalue": "invalid syntax (<ipython-input-11-9041ad43faf0>, line 1)",
       "output_type": "pyerr",
       "traceback": [
        "\u001b[1;36m  File \u001b[1;32m\"<ipython-input-11-9041ad43faf0>\"\u001b[1;36m, line \u001b[1;32m1\u001b[0m\n\u001b[1;33m    (\ttimedate=timedate, name=name, url_request=url_request, url_status_code=url_status_code,\u001b[0m\n\u001b[1;37m     \t        ^\u001b[0m\n\u001b[1;31mSyntaxError\u001b[0m\u001b[1;31m:\u001b[0m invalid syntax\n"
       ]
      }
     ],
     "prompt_number": 11
    },
    {
     "cell_type": "code",
     "collapsed": false,
     "input": [
      "log = []\n",
      "\n",
      "with open(\"data/sample.csv\", 'r') as f:\n",
      "    reader = csv.reader(f)\n",
      "\n",
      "    print dir(reader)\n",
      "    print reader.line_num + 1"
     ],
     "language": "python",
     "metadata": {},
     "outputs": [
      {
       "output_type": "stream",
       "stream": "stdout",
       "text": [
        "['__class__', '__delattr__', '__doc__', '__format__', '__getattribute__', '__hash__', '__init__', '__iter__', '__new__', '__reduce__', '__reduce_ex__', '__repr__', '__setattr__', '__sizeof__', '__str__', '__subclasshook__', 'dialect', 'line_num', 'next']\n",
        "1\n"
       ]
      }
     ],
     "prompt_number": 61
    },
    {
     "cell_type": "code",
     "collapsed": false,
     "input": [],
     "language": "python",
     "metadata": {},
     "outputs": []
    }
   ],
   "metadata": {}
  }
 ]
}