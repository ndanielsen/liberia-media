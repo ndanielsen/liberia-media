{
 "metadata": {
  "name": "",
  "signature": "sha256:1def162afc75884a2a81b00ea61b40f1116ab61f3ec10e6507a7ad1277662edd"
 },
 "nbformat": 3,
 "nbformat_minor": 0,
 "worksheets": [
  {
   "cells": [
    {
     "cell_type": "code",
     "collapsed": false,
     "input": [
      "import pandas as pd"
     ],
     "language": "python",
     "metadata": {},
     "outputs": [],
     "prompt_number": 2
    },
    {
     "cell_type": "code",
     "collapsed": false,
     "input": [
      "df = pd.read_csv(\"data/url_logger.csv\")"
     ],
     "language": "python",
     "metadata": {},
     "outputs": [],
     "prompt_number": 4
    },
    {
     "cell_type": "code",
     "collapsed": false,
     "input": [
      "df['unit'] = 1"
     ],
     "language": "python",
     "metadata": {},
     "outputs": [],
     "prompt_number": 10
    },
    {
     "cell_type": "code",
     "collapsed": false,
     "input": [
      "success = df[df.url_status_code ==200].unit.count()\n",
      "success_grouped = df[df.url_status_code ==200].groupby('name').unit.count()\n",
      "\n",
      "fail = df[df.url_status_code !=200].unit.count()\n",
      "fail_grouped = df[df.url_status_code !=200].groupby('name').unit.count()"
     ],
     "language": "python",
     "metadata": {},
     "outputs": [],
     "prompt_number": 33
    },
    {
     "cell_type": "code",
     "collapsed": false,
     "input": [
      "total_requests = df.url_status_code.sum()"
     ],
     "language": "python",
     "metadata": {},
     "outputs": [],
     "prompt_number": 14
    },
    {
     "cell_type": "code",
     "collapsed": false,
     "input": [
      "print \"Summary of URL Requests\"\n",
      "print \"-\" * 50\n",
      "print \"Percentage successful: %r\" % (round(float(success)/ (success + fail), 2))\n",
      "print \"Total Succesful:\", success\n",
      "print \"Total Unsuccesful:\", fail\n",
      "print \"\\n\"\n",
      "\n",
      "\n",
      "print 'Quantity of Articles Available'\n",
      "print \"-\" * 50\n",
      "\n",
      "for index, elem in enumerate(success_grouped):\n",
      "    print success_grouped.index[index].capitalize(),\": \", success_grouped[index]"
     ],
     "language": "python",
     "metadata": {},
     "outputs": [
      {
       "output_type": "stream",
       "stream": "stdout",
       "text": [
        "Summary of URL Requests\n",
        "--------------------------------------------------\n",
        "Percentage successful: 0.49\n",
        "Total Succesful: 261\n",
        "Total Unsuccesful: 267\n",
        "\n",
        "\n",
        "Quantity of Articles Available\n",
        "--------------------------------------------------\n",
        "Dailyobserver :  53\n",
        "Frontpageafricaonline :  63\n",
        "Gnnliberia :  49\n",
        "Golministryofinformation :  68\n",
        "Post1847 :  7\n",
        "Theanalyst :  4\n",
        "Thenewdawn :  17\n"
       ]
      }
     ],
     "prompt_number": 61
    },
    {
     "cell_type": "code",
     "collapsed": false,
     "input": [],
     "language": "python",
     "metadata": {},
     "outputs": []
    }
   ],
   "metadata": {}
  }
 ]
}