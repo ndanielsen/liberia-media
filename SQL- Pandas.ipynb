{
 "metadata": {
  "name": "",
  "signature": "sha256:bb6b4e759ba2a7f861e152031010ee33b62378c87a4f53cad6e5de9f28f1e963"
 },
 "nbformat": 3,
 "nbformat_minor": 0,
 "worksheets": [
  {
   "cells": [
    {
     "cell_type": "code",
     "collapsed": false,
     "input": [
      "import pandas as pd\n",
      "import sqlite3"
     ],
     "language": "python",
     "metadata": {},
     "outputs": [],
     "prompt_number": 2
    },
    {
     "cell_type": "code",
     "collapsed": false,
     "input": [
      "file = \"data/liberia_main.db\"\n",
      "con = sqlite3.connect(file)\n",
      "\n"
     ],
     "language": "python",
     "metadata": {},
     "outputs": [],
     "prompt_number": 8
    },
    {
     "cell_type": "code",
     "collapsed": false,
     "input": [
      "query = 'SELECT * FROM scraperlog'\n",
      "\n",
      "df = pd.read_sql(query, con)"
     ],
     "language": "python",
     "metadata": {},
     "outputs": [],
     "prompt_number": 9
    },
    {
     "cell_type": "code",
     "collapsed": false,
     "input": [
      "df.columns"
     ],
     "language": "python",
     "metadata": {},
     "outputs": [
      {
       "metadata": {},
       "output_type": "pyout",
       "prompt_number": 10,
       "text": [
        "Index([u'id', u'name', u'url_request', u'url_status_code', u'header_len', u'response_len', u'timedate', u'message', u'error'], dtype='object')"
       ]
      }
     ],
     "prompt_number": 10
    },
    {
     "cell_type": "code",
     "collapsed": false,
     "input": [
      "df.timedate = pd.to_datetime(df.timedate)"
     ],
     "language": "python",
     "metadata": {},
     "outputs": [],
     "prompt_number": 11
    },
    {
     "cell_type": "code",
     "collapsed": false,
     "input": [
      "df = df.sort('timedate')"
     ],
     "language": "python",
     "metadata": {},
     "outputs": [],
     "prompt_number": 12
    },
    {
     "cell_type": "code",
     "collapsed": false,
     "input": [
      "# df.id"
     ],
     "language": "python",
     "metadata": {},
     "outputs": [],
     "prompt_number": 14
    },
    {
     "cell_type": "code",
     "collapsed": false,
     "input": [
      "df[df.timedate==pd.Timestamp('2015-05-04 22:37:38.890593')]"
     ],
     "language": "python",
     "metadata": {},
     "outputs": [
      {
       "html": [
        "<div style=\"max-height:1000px;max-width:1500px;overflow:auto;\">\n",
        "<table border=\"1\" class=\"dataframe\">\n",
        "  <thead>\n",
        "    <tr style=\"text-align: right;\">\n",
        "      <th></th>\n",
        "      <th>name</th>\n",
        "      <th>url_request</th>\n",
        "      <th>url_status_code</th>\n",
        "      <th>header_len</th>\n",
        "      <th>response_len</th>\n",
        "      <th>timedate</th>\n",
        "      <th>message</th>\n",
        "      <th>error</th>\n",
        "    </tr>\n",
        "  </thead>\n",
        "  <tbody>\n",
        "  </tbody>\n",
        "</table>\n",
        "</div>"
       ],
       "metadata": {},
       "output_type": "pyout",
       "prompt_number": 27,
       "text": [
        "Empty DataFrame\n",
        "Columns: [name, url_request, url_status_code, header_len, response_len, timedate, message, error]\n",
        "Index: []"
       ]
      }
     ],
     "prompt_number": 27
    },
    {
     "cell_type": "code",
     "collapsed": false,
     "input": [
      "dir(pd)"
     ],
     "language": "python",
     "metadata": {},
     "outputs": [
      {
       "metadata": {},
       "output_type": "pyout",
       "prompt_number": 16,
       "text": [
        "['Categorical',\n",
        " 'DataFrame',\n",
        " 'DateOffset',\n",
        " 'DatetimeIndex',\n",
        " 'ExcelFile',\n",
        " 'ExcelWriter',\n",
        " 'Expr',\n",
        " 'Float64Index',\n",
        " 'Grouper',\n",
        " 'HDFStore',\n",
        " 'Index',\n",
        " 'IndexSlice',\n",
        " 'Int64Index',\n",
        " 'LooseVersion',\n",
        " 'MultiIndex',\n",
        " 'NaT',\n",
        " 'Panel',\n",
        " 'Panel4D',\n",
        " 'Period',\n",
        " 'PeriodIndex',\n",
        " 'Series',\n",
        " 'SparseArray',\n",
        " 'SparseDataFrame',\n",
        " 'SparseList',\n",
        " 'SparsePanel',\n",
        " 'SparseSeries',\n",
        " 'SparseTimeSeries',\n",
        " 'Term',\n",
        " 'TimeGrouper',\n",
        " 'TimeSeries',\n",
        " 'Timedelta',\n",
        " 'TimedeltaIndex',\n",
        " 'Timestamp',\n",
        " 'WidePanel',\n",
        " '__builtins__',\n",
        " '__doc__',\n",
        " '__docformat__',\n",
        " '__file__',\n",
        " '__name__',\n",
        " '__package__',\n",
        " '__path__',\n",
        " '__version__',\n",
        " '_np_version',\n",
        " '_np_version_under1p8',\n",
        " '_np_version_under1p9',\n",
        " '_period',\n",
        " '_sparse',\n",
        " '_testing',\n",
        " 'algos',\n",
        " 'bdate_range',\n",
        " 'compat',\n",
        " 'computation',\n",
        " 'concat',\n",
        " 'core',\n",
        " 'crosstab',\n",
        " 'cut',\n",
        " 'date_range',\n",
        " 'datetime',\n",
        " 'datetools',\n",
        " 'describe_option',\n",
        " 'eval',\n",
        " 'ewma',\n",
        " 'ewmcorr',\n",
        " 'ewmcov',\n",
        " 'ewmstd',\n",
        " 'ewmvar',\n",
        " 'ewmvol',\n",
        " 'expanding_apply',\n",
        " 'expanding_corr',\n",
        " 'expanding_corr_pairwise',\n",
        " 'expanding_count',\n",
        " 'expanding_cov',\n",
        " 'expanding_kurt',\n",
        " 'expanding_max',\n",
        " 'expanding_mean',\n",
        " 'expanding_median',\n",
        " 'expanding_min',\n",
        " 'expanding_quantile',\n",
        " 'expanding_skew',\n",
        " 'expanding_std',\n",
        " 'expanding_sum',\n",
        " 'expanding_var',\n",
        " 'factorize',\n",
        " 'fama_macbeth',\n",
        " 'get_dummies',\n",
        " 'get_option',\n",
        " 'get_store',\n",
        " 'groupby',\n",
        " 'hashtable',\n",
        " 'index',\n",
        " 'infer_freq',\n",
        " 'info',\n",
        " 'io',\n",
        " 'isnull',\n",
        " 'json',\n",
        " 'lib',\n",
        " 'load',\n",
        " 'lreshape',\n",
        " 'match',\n",
        " 'melt',\n",
        " 'merge',\n",
        " 'msgpack',\n",
        " 'notnull',\n",
        " 'np',\n",
        " 'offsets',\n",
        " 'ols',\n",
        " 'option_context',\n",
        " 'options',\n",
        " 'ordered_merge',\n",
        " 'pandas',\n",
        " 'parser',\n",
        " 'period_range',\n",
        " 'pivot',\n",
        " 'pivot_table',\n",
        " 'plot_params',\n",
        " 'pnow',\n",
        " 'qcut',\n",
        " 'read_clipboard',\n",
        " 'read_csv',\n",
        " 'read_excel',\n",
        " 'read_fwf',\n",
        " 'read_gbq',\n",
        " 'read_hdf',\n",
        " 'read_html',\n",
        " 'read_json',\n",
        " 'read_msgpack',\n",
        " 'read_pickle',\n",
        " 'read_sql',\n",
        " 'read_sql_query',\n",
        " 'read_sql_table',\n",
        " 'read_stata',\n",
        " 'read_table',\n",
        " 'reset_option',\n",
        " 'rolling_apply',\n",
        " 'rolling_corr',\n",
        " 'rolling_corr_pairwise',\n",
        " 'rolling_count',\n",
        " 'rolling_cov',\n",
        " 'rolling_kurt',\n",
        " 'rolling_max',\n",
        " 'rolling_mean',\n",
        " 'rolling_median',\n",
        " 'rolling_min',\n",
        " 'rolling_quantile',\n",
        " 'rolling_skew',\n",
        " 'rolling_std',\n",
        " 'rolling_sum',\n",
        " 'rolling_var',\n",
        " 'rolling_window',\n",
        " 'save',\n",
        " 'scatter_matrix',\n",
        " 'set_eng_float_format',\n",
        " 'set_option',\n",
        " 'show_versions',\n",
        " 'sparse',\n",
        " 'stats',\n",
        " 'timedelta_range',\n",
        " 'to_datetime',\n",
        " 'to_msgpack',\n",
        " 'to_pickle',\n",
        " 'to_timedelta',\n",
        " 'tools',\n",
        " 'tseries',\n",
        " 'tslib',\n",
        " 'unique',\n",
        " 'util',\n",
        " 'value_counts',\n",
        " 'version',\n",
        " 'wide_to_long']"
       ]
      }
     ],
     "prompt_number": 16
    },
    {
     "cell_type": "code",
     "collapsed": false,
     "input": [],
     "language": "python",
     "metadata": {},
     "outputs": [
      {
       "metadata": {},
       "output_type": "pyout",
       "prompt_number": 22,
       "text": [
        "Timestamp('2015-05-04 00:00:00')"
       ]
      }
     ],
     "prompt_number": 22
    },
    {
     "cell_type": "code",
     "collapsed": false,
     "input": [
      "df.index.get_loc(pd.to_datetime('2015-05-04 22:37:38.890593'))"
     ],
     "language": "python",
     "metadata": {},
     "outputs": [
      {
       "ename": "KeyError",
       "evalue": "Timestamp('2015-05-04 22:37:38.890593')",
       "output_type": "pyerr",
       "traceback": [
        "\u001b[1;31m---------------------------------------------------------------------------\u001b[0m\n\u001b[1;31mKeyError\u001b[0m                                  Traceback (most recent call last)",
        "\u001b[1;32m<ipython-input-32-2da2fbe7db95>\u001b[0m in \u001b[0;36m<module>\u001b[1;34m()\u001b[0m\n\u001b[1;32m----> 1\u001b[1;33m \u001b[0mdf\u001b[0m\u001b[1;33m.\u001b[0m\u001b[0mindex\u001b[0m\u001b[1;33m.\u001b[0m\u001b[0mget_loc\u001b[0m\u001b[1;33m(\u001b[0m\u001b[0mpd\u001b[0m\u001b[1;33m.\u001b[0m\u001b[0mto_datetime\u001b[0m\u001b[1;33m(\u001b[0m\u001b[1;34m'2015-05-04 22:37:38.890593'\u001b[0m\u001b[1;33m)\u001b[0m\u001b[1;33m)\u001b[0m\u001b[1;33m\u001b[0m\u001b[0m\n\u001b[0m",
        "\u001b[1;32m/home/nathan/.virtualenvs/liberia/lib/python2.7/site-packages/pandas/core/index.pyc\u001b[0m in \u001b[0;36mget_loc\u001b[1;34m(self, key, method)\u001b[0m\n\u001b[0;32m   1435\u001b[0m         \"\"\"\n\u001b[0;32m   1436\u001b[0m         \u001b[1;32mif\u001b[0m \u001b[0mmethod\u001b[0m \u001b[1;32mis\u001b[0m \u001b[0mNone\u001b[0m\u001b[1;33m:\u001b[0m\u001b[1;33m\u001b[0m\u001b[0m\n\u001b[1;32m-> 1437\u001b[1;33m             \u001b[1;32mreturn\u001b[0m \u001b[0mself\u001b[0m\u001b[1;33m.\u001b[0m\u001b[0m_engine\u001b[0m\u001b[1;33m.\u001b[0m\u001b[0mget_loc\u001b[0m\u001b[1;33m(\u001b[0m\u001b[0m_values_from_object\u001b[0m\u001b[1;33m(\u001b[0m\u001b[0mkey\u001b[0m\u001b[1;33m)\u001b[0m\u001b[1;33m)\u001b[0m\u001b[1;33m\u001b[0m\u001b[0m\n\u001b[0m\u001b[0;32m   1438\u001b[0m \u001b[1;33m\u001b[0m\u001b[0m\n\u001b[0;32m   1439\u001b[0m         \u001b[0mindexer\u001b[0m \u001b[1;33m=\u001b[0m \u001b[0mself\u001b[0m\u001b[1;33m.\u001b[0m\u001b[0mget_indexer\u001b[0m\u001b[1;33m(\u001b[0m\u001b[1;33m[\u001b[0m\u001b[0mkey\u001b[0m\u001b[1;33m]\u001b[0m\u001b[1;33m,\u001b[0m \u001b[0mmethod\u001b[0m\u001b[1;33m=\u001b[0m\u001b[0mmethod\u001b[0m\u001b[1;33m)\u001b[0m\u001b[1;33m\u001b[0m\u001b[0m\n",
        "\u001b[1;32m/home/nathan/.virtualenvs/liberia/lib/python2.7/site-packages/pandas/index.so\u001b[0m in \u001b[0;36mpandas.index.IndexEngine.get_loc (pandas/index.c:3824)\u001b[1;34m()\u001b[0m\n",
        "\u001b[1;32m/home/nathan/.virtualenvs/liberia/lib/python2.7/site-packages/pandas/index.so\u001b[0m in \u001b[0;36mpandas.index.IndexEngine.get_loc (pandas/index.c:3761)\u001b[1;34m()\u001b[0m\n",
        "\u001b[1;31mKeyError\u001b[0m: Timestamp('2015-05-04 22:37:38.890593')"
       ]
      }
     ],
     "prompt_number": 32
    },
    {
     "cell_type": "code",
     "collapsed": false,
     "input": [],
     "language": "python",
     "metadata": {},
     "outputs": []
    }
   ],
   "metadata": {}
  }
 ]
}