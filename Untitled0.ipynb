{
 "metadata": {
  "name": "",
  "signature": "sha256:80c85493f06815b8a767c6bb8905a39f45e7e1547e4f150f0b1ffa777a94bc18"
 },
 "nbformat": 3,
 "nbformat_minor": 0,
 "worksheets": [
  {
   "cells": [
    {
     "cell_type": "code",
     "collapsed": false,
     "input": [
      "import arrow"
     ],
     "language": "python",
     "metadata": {},
     "outputs": [],
     "prompt_number": 1
    },
    {
     "cell_type": "code",
     "collapsed": false,
     "input": [
      "thing = '11/18/2013 - 14:31'\n",
      "'Mon, 11/18/2013 - 14:38'\n",
      "'DDD, MM/DD/YYYY - HH:mm'\n",
      "    "
     ],
     "language": "python",
     "metadata": {},
     "outputs": [
      {
       "metadata": {},
       "output_type": "pyout",
       "prompt_number": 5,
       "text": [
        "'DDD, MM/DD/YYYY - HH:mm'"
       ]
      }
     ],
     "prompt_number": 5
    },
    {
     "cell_type": "code",
     "collapsed": false,
     "input": [
      "arrow.get(thing, 'MM/DD/YYYY - HH:mm')"
     ],
     "language": "python",
     "metadata": {},
     "outputs": [
      {
       "metadata": {},
       "output_type": "pyout",
       "prompt_number": 6,
       "text": [
        "<Arrow [2013-11-18T14:31:00+00:00]>"
       ]
      }
     ],
     "prompt_number": 6
    },
    {
     "cell_type": "code",
     "collapsed": false,
     "input": [],
     "language": "python",
     "metadata": {},
     "outputs": []
    }
   ],
   "metadata": {}
  }
 ]
}