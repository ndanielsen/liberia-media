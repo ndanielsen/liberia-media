{
 "metadata": {
  "name": "",
  "signature": "sha256:c0cc43eaa2539abb3f9905e19aa97aebd5ea257d45eb6952e308b5cbc77b4313"
 },
 "nbformat": 3,
 "nbformat_minor": 0,
 "worksheets": [
  {
   "cells": [
    {
     "cell_type": "code",
     "collapsed": false,
     "input": [
      "import csv\n",
      "from dateutil import parser \n",
      "import datetime \n",
      "import time\n",
      "\n",
      "from engine.engine import Engine\n"
     ],
     "language": "python",
     "metadata": {},
     "outputs": [],
     "prompt_number": 1
    },
    {
     "cell_type": "code",
     "collapsed": false,
     "input": [
      "log = []\n",
      "\n",
      "with open(\"data/200log.csv\", 'r') as f:\n",
      "    reader = csv.reader(f)\n",
      "    next(reader, None)\n",
      "    for row in reader:\n",
      "        url_request = unicode(row[0])  \n",
      "        url_status_code = row[1]\n",
      "        header_len = row[2]\n",
      "        response_len = row[3]\n",
      "        name = unicode(row[4]) \n",
      "        timedate = parser.parse(row[5])\n",
      "        message = unicode(row[6])\n",
      "        \n",
      "        scraperlog = [timedate, url_request, url_status_code, header_len, response_len, name, message]\n",
      "        \n",
      "        log.append(scraperlog)\n",
      "\n",
      "        \n",
      "print 'done', log[:2]\n",
      "\n",
      "\n",
      "        "
     ],
     "language": "python",
     "metadata": {},
     "outputs": [
      {
       "output_type": "stream",
       "stream": "stdout",
       "text": [
        "done [[datetime.datetime(2015, 5, 3, 12, 33, 27, 188826), u'http://www.frontpageafricaonline.com/index.php/news/1', '200', '16', '43429', u'frontpageafricaonline', u'production'], [datetime.datetime(2015, 5, 3, 12, 41, 19, 267498), u'http://www.1847post.com/?q=node/8', '200', '15', '33305', u'post1847', u'production']]\n"
       ]
      }
     ],
     "prompt_number": 2
    },
    {
     "cell_type": "code",
     "collapsed": false,
     "input": [
      "Engine(engine='new_test', scraperlog=log)\n"
     ],
     "language": "python",
     "metadata": {},
     "outputs": [
      {
       "output_type": "stream",
       "stream": "stdout",
       "text": [
        "New DB new_test.db created\n",
        "DB initialized\n",
        "Scarper log added to commit list"
       ]
      },
      {
       "output_type": "stream",
       "stream": "stdout",
       "text": [
        "\n",
        "Ending DB connection"
       ]
      },
      {
       "output_type": "stream",
       "stream": "stdout",
       "text": [
        "\n"
       ]
      },
      {
       "metadata": {},
       "output_type": "pyout",
       "prompt_number": 5,
       "text": [
        "<engine.engine.Engine at 0x7f30804f1310>"
       ]
      }
     ],
     "prompt_number": 5
    },
    {
     "cell_type": "code",
     "collapsed": false,
     "input": [
      "Engine(engine='new_test').main()"
     ],
     "language": "python",
     "metadata": {},
     "outputs": [
      {
       "output_type": "stream",
       "stream": "stdout",
       "text": [
        "DB initialized\n",
        "Ending DB connection\n"
       ]
      }
     ],
     "prompt_number": 6
    },
    {
     "cell_type": "code",
     "collapsed": false,
     "input": [
      "print e"
     ],
     "language": "python",
     "metadata": {},
     "outputs": [
      {
       "ename": "NameError",
       "evalue": "name 'e' is not defined",
       "output_type": "pyerr",
       "traceback": [
        "\u001b[1;31m---------------------------------------------------------------------------\u001b[0m\n\u001b[1;31mNameError\u001b[0m                                 Traceback (most recent call last)",
        "\u001b[1;32m<ipython-input-6-65369d5b60a8>\u001b[0m in \u001b[0;36m<module>\u001b[1;34m()\u001b[0m\n\u001b[1;32m----> 1\u001b[1;33m \u001b[1;32mprint\u001b[0m \u001b[0me\u001b[0m\u001b[1;33m\u001b[0m\u001b[0m\n\u001b[0m",
        "\u001b[1;31mNameError\u001b[0m: name 'e' is not defined"
       ]
      }
     ],
     "prompt_number": 6
    },
    {
     "cell_type": "code",
     "collapsed": false,
     "input": [],
     "language": "python",
     "metadata": {},
     "outputs": []
    }
   ],
   "metadata": {}
  }
 ]
}