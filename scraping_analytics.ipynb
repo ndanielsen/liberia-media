{
 "metadata": {
  "name": "",
  "signature": "sha256:7beb8c2ee40308199034460c44b6c8122f9b17606cd1615b90233cd2d75ec806"
 },
 "nbformat": 3,
 "nbformat_minor": 0,
 "worksheets": [
  {
   "cells": [
    {
     "cell_type": "code",
     "collapsed": false,
     "input": [
      "import pandas as pd"
     ],
     "language": "python",
     "metadata": {},
     "outputs": [],
     "prompt_number": 1
    },
    {
     "cell_type": "code",
     "collapsed": false,
     "input": [
      "df = pd.read_csv(\"data/200log.csv\")"
     ],
     "language": "python",
     "metadata": {},
     "outputs": [],
     "prompt_number": 2
    },
    {
     "cell_type": "code",
     "collapsed": false,
     "input": [
      "df['unit'] = 1"
     ],
     "language": "python",
     "metadata": {},
     "outputs": [],
     "prompt_number": 3
    },
    {
     "cell_type": "code",
     "collapsed": false,
     "input": [
      "success = df[df.url_status_code ==200].unit.count()\n",
      "success_grouped = df[df.url_status_code ==200].groupby('name').unit.count()\n",
      "\n",
      "fail = df[df.url_status_code !=200].unit.count()\n",
      "fail_grouped = df[df.url_status_code !=200].groupby('name').unit.count()"
     ],
     "language": "python",
     "metadata": {},
     "outputs": [],
     "prompt_number": 7
    },
    {
     "cell_type": "code",
     "collapsed": false,
     "input": [
      "fail_grouped"
     ],
     "language": "python",
     "metadata": {},
     "outputs": [
      {
       "metadata": {},
       "output_type": "pyout",
       "prompt_number": 8,
       "text": [
        "Series([], Name: unit, dtype: int64)"
       ]
      }
     ],
     "prompt_number": 8
    },
    {
     "cell_type": "code",
     "collapsed": false,
     "input": [
      "total_requests = df.url_status_code.sum()"
     ],
     "language": "python",
     "metadata": {},
     "outputs": [],
     "prompt_number": 9
    },
    {
     "cell_type": "code",
     "collapsed": false,
     "input": [
      "print \"Summary of URL Requests\"\n",
      "print \"-\" * 50\n",
      "print \"Percentage successful: %r\" % (round(float(success)/ (success + fail), 2))\n",
      "print \"Total Succesful:\", success\n",
      "print \"Total Unsuccesful:\", fail\n",
      "print \"\\n\"\n",
      "\n",
      "\n",
      "print 'Quantity of Articles Available'\n",
      "print \"-\" * 50\n",
      "\n",
      "for index, elem in enumerate(success_grouped):\n",
      "    print success_grouped.index[index].capitalize(),\": \", success_grouped[index]"
     ],
     "language": "python",
     "metadata": {},
     "outputs": [
      {
       "output_type": "stream",
       "stream": "stdout",
       "text": [
        "Summary of URL Requests\n",
        "--------------------------------------------------\n",
        "Percentage successful: 1.0\n",
        "Total Succesful: 25105\n",
        "Total Unsuccesful: 0\n",
        "\n",
        "\n",
        "Quantity of Articles Available\n",
        "--------------------------------------------------\n",
        "Dailyobserver :  4524\n",
        "Frontpageafricaonline :  4359\n",
        "Gnnliberia :  1749\n",
        "Golministryofinformation :  2884\n",
        "Post1847 :  6023\n",
        "Theanalyst :  304\n",
        "Thenewdawn :  5262\n"
       ]
      }
     ],
     "prompt_number": 10
    },
    {
     "cell_type": "code",
     "collapsed": false,
     "input": [
      "print success"
     ],
     "language": "python",
     "metadata": {},
     "outputs": [
      {
       "output_type": "stream",
       "stream": "stdout",
       "text": [
        "0\n"
       ]
      }
     ],
     "prompt_number": 7
    },
    {
     "cell_type": "code",
     "collapsed": false,
     "input": [
      "df.url_status_code.count()"
     ],
     "language": "python",
     "metadata": {},
     "outputs": [
      {
       "metadata": {},
       "output_type": "pyout",
       "prompt_number": 14,
       "text": [
        "52995"
       ]
      }
     ],
     "prompt_number": 14
    },
    {
     "cell_type": "code",
     "collapsed": false,
     "input": [
      "df.groupby('name').count()"
     ],
     "language": "python",
     "metadata": {},
     "outputs": [
      {
       "html": [
        "<div style=\"max-height:1000px;max-width:1500px;overflow:auto;\">\n",
        "<table border=\"1\" class=\"dataframe\">\n",
        "  <thead>\n",
        "    <tr style=\"text-align: right;\">\n",
        "      <th></th>\n",
        "      <th>url_request</th>\n",
        "      <th>url_status_code</th>\n",
        "      <th>header_len</th>\n",
        "      <th>response_len</th>\n",
        "      <th>time</th>\n",
        "      <th>message</th>\n",
        "    </tr>\n",
        "    <tr>\n",
        "      <th>name</th>\n",
        "      <th></th>\n",
        "      <th></th>\n",
        "      <th></th>\n",
        "      <th></th>\n",
        "      <th></th>\n",
        "      <th></th>\n",
        "    </tr>\n",
        "  </thead>\n",
        "  <tbody>\n",
        "    <tr>\n",
        "      <th>dailyobserver</th>\n",
        "      <td>4524</td>\n",
        "      <td>4524</td>\n",
        "      <td>4524</td>\n",
        "      <td>4524</td>\n",
        "      <td>4524</td>\n",
        "      <td>4524</td>\n",
        "    </tr>\n",
        "    <tr>\n",
        "      <th>frontpageafricaonline</th>\n",
        "      <td>4359</td>\n",
        "      <td>4359</td>\n",
        "      <td>4359</td>\n",
        "      <td>4359</td>\n",
        "      <td>4359</td>\n",
        "      <td>4359</td>\n",
        "    </tr>\n",
        "    <tr>\n",
        "      <th>gnnliberia</th>\n",
        "      <td>1749</td>\n",
        "      <td>1749</td>\n",
        "      <td>1749</td>\n",
        "      <td>1749</td>\n",
        "      <td>1749</td>\n",
        "      <td>1749</td>\n",
        "    </tr>\n",
        "    <tr>\n",
        "      <th>golministryofinformation</th>\n",
        "      <td>2884</td>\n",
        "      <td>2884</td>\n",
        "      <td>2884</td>\n",
        "      <td>2884</td>\n",
        "      <td>2884</td>\n",
        "      <td>2884</td>\n",
        "    </tr>\n",
        "    <tr>\n",
        "      <th>post1847</th>\n",
        "      <td>6023</td>\n",
        "      <td>6023</td>\n",
        "      <td>6023</td>\n",
        "      <td>6023</td>\n",
        "      <td>6023</td>\n",
        "      <td>6023</td>\n",
        "    </tr>\n",
        "    <tr>\n",
        "      <th>theanalyst</th>\n",
        "      <td>304</td>\n",
        "      <td>304</td>\n",
        "      <td>304</td>\n",
        "      <td>304</td>\n",
        "      <td>304</td>\n",
        "      <td>304</td>\n",
        "    </tr>\n",
        "    <tr>\n",
        "      <th>thenewdawn</th>\n",
        "      <td>5262</td>\n",
        "      <td>5262</td>\n",
        "      <td>5262</td>\n",
        "      <td>5262</td>\n",
        "      <td>5262</td>\n",
        "      <td>5262</td>\n",
        "    </tr>\n",
        "  </tbody>\n",
        "</table>\n",
        "</div>"
       ],
       "metadata": {},
       "output_type": "pyout",
       "prompt_number": 17,
       "text": [
        "                          url_request  url_status_code  header_len  \\\n",
        "name                                                                 \n",
        "dailyobserver                    4524             4524        4524   \n",
        "frontpageafricaonline            4359             4359        4359   \n",
        "gnnliberia                       1749             1749        1749   \n",
        "golministryofinformation         2884             2884        2884   \n",
        "post1847                         6023             6023        6023   \n",
        "theanalyst                        304              304         304   \n",
        "thenewdawn                       5262             5262        5262   \n",
        "\n",
        "                          response_len  time  message  \n",
        "name                                                   \n",
        "dailyobserver                     4524  4524     4524  \n",
        "frontpageafricaonline             4359  4359     4359  \n",
        "gnnliberia                        1749  1749     1749  \n",
        "golministryofinformation          2884  2884     2884  \n",
        "post1847                          6023  6023     6023  \n",
        "theanalyst                         304   304      304  \n",
        "thenewdawn                        5262  5262     5262  "
       ]
      }
     ],
     "prompt_number": 17
    },
    {
     "cell_type": "code",
     "collapsed": false,
     "input": [
      "df.count()"
     ],
     "language": "python",
     "metadata": {},
     "outputs": [
      {
       "metadata": {},
       "output_type": "pyout",
       "prompt_number": 18,
       "text": [
        "url_request        25105\n",
        "url_status_code    25105\n",
        "header_len         25105\n",
        "response_len       25105\n",
        "name               25105\n",
        "time               25105\n",
        "message            25105\n",
        "dtype: int64"
       ]
      }
     ],
     "prompt_number": 18
    },
    {
     "cell_type": "code",
     "collapsed": false,
     "input": [],
     "language": "python",
     "metadata": {},
     "outputs": []
    }
   ],
   "metadata": {}
  }
 ]
}